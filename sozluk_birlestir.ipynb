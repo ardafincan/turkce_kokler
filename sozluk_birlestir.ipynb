{
 "cells": [
  {
   "cell_type": "code",
   "execution_count": 3,
   "metadata": {},
   "outputs": [
    {
     "data": {
      "text/plain": [
       "(99236,\n",
       " {'_id': 1,\n",
       "  'madde_id': '1',\n",
       "  'kac': '0',\n",
       "  'kelime_no': '14800',\n",
       "  'cesit': '0',\n",
       "  'anlam_gor': '0',\n",
       "  'on_taki': None,\n",
       "  'madde': 'dulavrat otu',\n",
       "  'cesit_say': '0',\n",
       "  'anlam_say': '1',\n",
       "  'taki': None,\n",
       "  'cogul_mu': '0',\n",
       "  'ozel_mi': '0',\n",
       "  'egik_mi': '0',\n",
       "  'lisan_kodu': '0',\n",
       "  'lisan': '',\n",
       "  'telaffuz': None,\n",
       "  'birlesikler': None,\n",
       "  'font': None,\n",
       "  'madde_duz': 'dulavrat otu',\n",
       "  'gosterim_tarihi': None,\n",
       "  'anlamlarListe': [{'anlam_id': '25840',\n",
       "    'madde_id': '1',\n",
       "    'anlam_sira': '1',\n",
       "    'fiil': '0',\n",
       "    'tipkes': '0',\n",
       "    'anlam': 'Birleşikgillerden, hekimlikte kullanılan bir bitki (Arctium tomentosum)',\n",
       "    'gos': '0',\n",
       "    'ozelliklerListe': [{'ozellik_id': '19',\n",
       "      'tur': '3',\n",
       "      'tam_adi': 'isim',\n",
       "      'kisa_adi': 'a.',\n",
       "      'ekno': '30'},\n",
       "     {'ozellik_id': '41',\n",
       "      'tur': '1',\n",
       "      'tam_adi': 'bitki bilimi',\n",
       "      'kisa_adi': 'bit. b.',\n",
       "      'ekno': '90'}]}]})"
      ]
     },
     "execution_count": 3,
     "metadata": {},
     "output_type": "execute_result"
    }
   ],
   "source": [
    "import json\n",
    "\n",
    "lines = []\n",
    "# each line is a json object\n",
    "with open('sozluk/gts.json', 'r') as file:\n",
    "    for line in file:\n",
    "        lines.append(json.loads(line))\n",
    "\n",
    "len(lines), lines[0]"
   ]
  },
  {
   "cell_type": "code",
   "execution_count": null,
   "metadata": {},
   "outputs": [],
   "source": []
  },
  {
   "cell_type": "code",
   "execution_count": 22,
   "metadata": {},
   "outputs": [
    {
     "name": "stdout",
     "output_type": "stream",
     "text": [
      "duman Bir maddenin yanması ile çıkan ve içinde katı zerrelerle buğu bulunan değişik renklerde gaz; tütün isim Havalanan tozların veya sisin oluşturduğu bulanıklık Köyünün üstüne boz bir duman çökmüştü. Yaşar Kemal Çok kötü argo İşimiz duman. Hâlimiz duman. ► esrar (II) argo dumana boğmak duman almak duman altı etmek duman altı olmak duman attırmak duman etmek dumanı doğru çıksın dumanı tepesinden çıkmak duman olmak duman vermek\n"
     ]
    }
   ],
   "source": [
    "madde_no = 13\n",
    "def madde_birlestir(madde_no):\n",
    "  madde = lines[madde_no]['madde']\n",
    "  if 'bilesikler' in lines[madde_no]:\n",
    "    madde += ' ' + lines[madde_no]['bilesikler']\n",
    "\n",
    "  if 'anlamlarListe' in lines[madde_no]:\n",
    "    for anlam in lines[madde_no]['anlamlarListe']:\n",
    "      madde += ' ' + anlam['anlam']\n",
    "      if 'ozelliklerListe' in anlam:\n",
    "        for ozellik in anlam['ozelliklerListe']:\n",
    "          madde += ' ' + ozellik['tam_adi']\n",
    "      if 'orneklerListe' in anlam:\n",
    "        for ornek in anlam['orneklerListe']:\n",
    "          madde += ' ' + str(ornek['ornek'])\n",
    "        if 'yazar' in ornek:\n",
    "          for yazar in ornek['yazar']:\n",
    "            madde += ' ' + yazar['tam_adi']\n",
    "\n",
    "  if 'atasozu' in lines[madde_no]:\n",
    "    for atasozu in lines[madde_no]['atasozu']:\n",
    "      madde += ' ' + atasozu['madde']\n",
    "  return madde\n",
    "\n",
    "print(madde_birlestir(madde_no))\n"
   ]
  },
  {
   "cell_type": "code",
   "execution_count": 23,
   "metadata": {},
   "outputs": [],
   "source": [
    "metin = ''\n",
    "for madde_no in range(len(lines)):\n",
    "  try:\n",
    "    metin += madde_birlestir(madde_no) + '\\n'\n",
    "  except Exception as e:\n",
    "    print(e)\n",
    "    print(madde_no)\n",
    "\n",
    "with open('sozluk/metin.txt', 'w', encoding='utf-8') as file:\n",
    "  file.write(metin)"
   ]
  }
 ],
 "metadata": {
  "kernelspec": {
   "display_name": "Python 3",
   "language": "python",
   "name": "python3"
  },
  "language_info": {
   "codemirror_mode": {
    "name": "ipython",
    "version": 3
   },
   "file_extension": ".py",
   "mimetype": "text/x-python",
   "name": "python",
   "nbconvert_exporter": "python",
   "pygments_lexer": "ipython3",
   "version": "3.9.6"
  }
 },
 "nbformat": 4,
 "nbformat_minor": 2
}
