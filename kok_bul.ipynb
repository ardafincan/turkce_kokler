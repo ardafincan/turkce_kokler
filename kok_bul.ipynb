{
 "cells": [
  {
   "cell_type": "code",
   "execution_count": 63,
   "metadata": {},
   "outputs": [
    {
     "data": {
      "text/plain": [
       "167302"
      ]
     },
     "execution_count": 63,
     "metadata": {},
     "output_type": "execute_result"
    }
   ],
   "source": [
    "import json\n",
    "\n",
    "with open('sozluk_derlemi_frekans3.json', 'r') as file:\n",
    "    kelimeler = json.load(file)\n",
    "\n",
    "kelimeler_set = set(kelimeler.keys())\n",
    "len(kelimeler_set)"
   ]
  },
  {
   "cell_type": "code",
   "execution_count": null,
   "metadata": {},
   "outputs": [],
   "source": []
  },
  {
   "cell_type": "code",
   "execution_count": 10,
   "metadata": {},
   "outputs": [
    {
     "data": {
      "text/plain": [
       "['milletlerarasılaştırılmak',\n",
       " 'değerlendirilebilmektedir',\n",
       " 'türkleştiremediklerinden',\n",
       " 'temellendirilebileceğini',\n",
       " 'milletlerarasılaştırılma',\n",
       " 'bismillahirrahmanirrahim',\n",
       " 'çirkinleştirilmişlerdir',\n",
       " 'uluslararasılaştırılmak',\n",
       " 'polimerleştirilmesinden',\n",
       " 'milletlerarasılaştırmak']"
      ]
     },
     "execution_count": 10,
     "metadata": {},
     "output_type": "execute_result"
    }
   ],
   "source": [
    "# sort kelimleler_set by length and alphabetically\n",
    "kelimeler_sorted = sorted(kelimeler_set, key=lambda x: (len(x), x), reverse=True)\n",
    "\n",
    "kelimeler_sorted[:10]"
   ]
  },
  {
   "cell_type": "code",
   "execution_count": 14,
   "metadata": {},
   "outputs": [
    {
     "data": {
      "text/plain": [
       "17"
      ]
     },
     "execution_count": 14,
     "metadata": {},
     "output_type": "execute_result"
    }
   ],
   "source": [
    "ekler = json.load(open('ekler.json', 'r'))\n",
    "len(ekler)\n"
   ]
  },
  {
   "cell_type": "code",
   "execution_count": 51,
   "metadata": {},
   "outputs": [
    {
     "data": {
      "text/plain": [
       "174"
      ]
     },
     "execution_count": 51,
     "metadata": {},
     "output_type": "execute_result"
    }
   ],
   "source": [
    "excludes = [\"interjections\", \"conjunctions\", \"prepositions\"]\n",
    "\n",
    "ekler_set = set()\n",
    "\n",
    "for key in ekler.keys():\n",
    "    if key in excludes:\n",
    "        continue\n",
    "    ekler_set.update(ekler[key])\n",
    "\n",
    "len(ekler_set)"
   ]
  },
  {
   "cell_type": "code",
   "execution_count": 52,
   "metadata": {},
   "outputs": [
    {
     "data": {
      "text/plain": [
       "162"
      ]
     },
     "execution_count": 52,
     "metadata": {},
     "output_type": "execute_result"
    }
   ],
   "source": [
    "# remove if ek length is not greater than 2\n",
    "ekler_set = [ek for ek in ekler_set if len(ek) > 1]\n",
    "len(ekler_set)\n"
   ]
  },
  {
   "cell_type": "code",
   "execution_count": 61,
   "metadata": {},
   "outputs": [
    {
     "data": {
      "text/plain": [
       "162"
      ]
     },
     "execution_count": 61,
     "metadata": {},
     "output_type": "execute_result"
    }
   ],
   "source": [
    "ekler_sorted = sorted(ekler_set, key=lambda x: (len(x), x), reverse=True)\n",
    "len(ekler_sorted)\n"
   ]
  },
  {
   "cell_type": "code",
   "execution_count": 33,
   "metadata": {},
   "outputs": [],
   "source": []
  },
  {
   "cell_type": "code",
   "execution_count": 62,
   "metadata": {},
   "outputs": [
    {
     "data": {
      "text/plain": [
       "(95147, 0)"
      ]
     },
     "execution_count": 62,
     "metadata": {},
     "output_type": "execute_result"
    }
   ],
   "source": [
    "# check if any kelimeler_set item ends with any ekler_sorted item and if so:\n",
    "# check if this item without the ekler_sorted item is in kelimeler_set\n",
    "# if so remove the kelimeler_set item from kelimeler_set\n",
    "kelimeler_set = set(sorted_new_kelimeler)\n",
    "new_kelimeler_set = set()\n",
    "removed_kelimeler_set = set()\n",
    "for ek in ekler_sorted:\n",
    "    for kelime in kelimeler_set:\n",
    "        if kelime.endswith(ek):\n",
    "            if kelime[:-len(ek)] in kelimeler_set:\n",
    "                removed_kelimeler_set.add(kelime)\n",
    "\n",
    "for kelime in kelimeler_set:\n",
    "    if kelime not in removed_kelimeler_set:\n",
    "        new_kelimeler_set.add(kelime)\n",
    "\n",
    "len(new_kelimeler_set), len(removed_kelimeler_set)\n",
    "\n"
   ]
  },
  {
   "cell_type": "code",
   "execution_count": 58,
   "metadata": {},
   "outputs": [
    {
     "data": {
      "text/plain": [
       "['milletlerarasılaştırılmak',\n",
       " 'değerlendirilebilmektedir',\n",
       " 'türkleştiremediklerinden',\n",
       " 'temellendirilebileceğini',\n",
       " 'milletlerarasılaştırılma',\n",
       " 'bismillahirrahmanirrahim',\n",
       " 'çirkinleştirilmişlerdir',\n",
       " 'uluslararasılaştırılmak',\n",
       " 'polimerleştirilmesinden',\n",
       " 'milletlerarasılaştırmak']"
      ]
     },
     "execution_count": 58,
     "metadata": {},
     "output_type": "execute_result"
    }
   ],
   "source": [
    "sorted_new_kelimeler = sorted(new_kelimeler_set, key=lambda x: (len(x), x), reverse=True)\n",
    "\n",
    "with open('new_kelimeler2.json', 'w', encoding='utf-8') as file:\n",
    "    json.dump(sorted_new_kelimeler, file, ensure_ascii=False)\n",
    "\n",
    "sorted_new_kelimeler[:10]\n"
   ]
  },
  {
   "cell_type": "code",
   "execution_count": null,
   "metadata": {},
   "outputs": [],
   "source": []
  },
  {
   "cell_type": "code",
   "execution_count": 59,
   "metadata": {},
   "outputs": [
    {
     "data": {
      "text/plain": [
       "['kuyruksallayangillerden',\n",
       " 'şekerciboyasıgillerden',\n",
       " 'kızılkantarongillerden',\n",
       " 'idareimaslahatçılıktır',\n",
       " 'gerçekleştirilebilmesi',\n",
       " 'çobanpüskülügillerden',\n",
       " 'çobanaldatangillerden',\n",
       " 'yılanyastığıgillerden',\n",
       " 'kızılkantarongillerin',\n",
       " 'kurbağazehrigillerden']"
      ]
     },
     "execution_count": 59,
     "metadata": {},
     "output_type": "execute_result"
    }
   ],
   "source": [
    "sorted_removed_kelimeler = sorted(removed_kelimeler_set, key=lambda x: (len(x), x), reverse=True)\n",
    "\n",
    "with open('removed_kelimeler2.json', 'w', encoding='utf-8') as file:\n",
    "    json.dump(sorted_removed_kelimeler, file, ensure_ascii=False)\n",
    "\n",
    "sorted_removed_kelimeler[:10]\n",
    "\n"
   ]
  }
 ],
 "metadata": {
  "kernelspec": {
   "display_name": "Python 3",
   "language": "python",
   "name": "python3"
  },
  "language_info": {
   "codemirror_mode": {
    "name": "ipython",
    "version": 3
   },
   "file_extension": ".py",
   "mimetype": "text/x-python",
   "name": "python",
   "nbconvert_exporter": "python",
   "pygments_lexer": "ipython3",
   "version": "3.9.6"
  }
 },
 "nbformat": 4,
 "nbformat_minor": 2
}
