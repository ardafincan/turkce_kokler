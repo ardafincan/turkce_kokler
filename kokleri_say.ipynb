{
 "cells": [
  {
   "cell_type": "code",
   "execution_count": 3,
   "metadata": {},
   "outputs": [
    {
     "name": "stdout",
     "output_type": "stream",
     "text": [
      "2 71\n",
      "3 999\n",
      "4 2322\n",
      "5 5180\n",
      "6 4288\n",
      "7 3428\n",
      "8 2643\n",
      "9 1329\n",
      "10 855\n",
      "11 464\n",
      "12 234\n",
      "13 117\n",
      "14 54\n",
      "15 22\n",
      "16 15\n",
      "17 2\n",
      "18 3\n",
      "19 2\n",
      "20 1\n"
     ]
    }
   ],
   "source": [
    "# read sorted_combined_roots.txt and output for each length a list of all the words of that length in the file\n",
    "\n",
    "with open('sorted_combined_roots.txt', 'r') as f:\n",
    "    lines = f.readlines()\n",
    "\n",
    "lengths = {}\n",
    "for line in lines:\n",
    "  # remove the newline character\n",
    "    line = line.strip()\n",
    "    word = line.split()[0]\n",
    "    length = len(word)\n",
    "    if length not in lengths:\n",
    "        lengths[length] = []\n",
    "    lengths[length].append(word)\n",
    "\n",
    "for length in lengths:\n",
    "    print(length, len(lengths[length]))\n",
    "    # length_str should be 0-padded to 2 digits\n",
    "    length_str = str(length)\n",
    "    if length < 10:\n",
    "        length_str = '0' + length_str\n",
    "    with open(f'roots/words_{length}.txt', 'w') as f:\n",
    "        for word in lengths[length]:\n",
    "            f.write(word + '\\n')"
   ]
  },
  {
   "cell_type": "code",
   "execution_count": 6,
   "metadata": {},
   "outputs": [],
   "source": [
    "import json\n",
    "\n",
    "word_freq_file = \"word_frequency_counter/combined_text_word_freq.json\"\n",
    "\n",
    "with open(word_freq_file, 'r') as f:\n",
    "    word_freq = json.load(f)\n",
    "\n",
    "sorted_word_freq = sorted(word_freq.items(), key=lambda x: x[1], reverse=True)\n",
    "\n",
    "above_30 = {}\n",
    "\n",
    "for word, freq in sorted_word_freq:\n",
    "    if freq >= 30:\n",
    "        above_30[word] = freq\n",
    "\n",
    "# save the word frequency list\n",
    "with open('word_freq_30.json', 'w', encoding='utf-8') as f:\n",
    "    json.dump(word_freq, f, ensure_ascii=False, indent=4)    \n",
    "\n",
    "# save the sorted word frequency list\n",
    "with open('sorted_word_freq.json', 'w', encoding='utf-8') as f:\n",
    "    json.dump(dict(sorted_word_freq), f, ensure_ascii=False, indent=4)"
   ]
  }
 ],
 "metadata": {
  "kernelspec": {
   "display_name": "Python 3",
   "language": "python",
   "name": "python3"
  },
  "language_info": {
   "codemirror_mode": {
    "name": "ipython",
    "version": 3
   },
   "file_extension": ".py",
   "mimetype": "text/x-python",
   "name": "python",
   "nbconvert_exporter": "python",
   "pygments_lexer": "ipython3",
   "version": "3.9.6"
  }
 },
 "nbformat": 4,
 "nbformat_minor": 2
}
