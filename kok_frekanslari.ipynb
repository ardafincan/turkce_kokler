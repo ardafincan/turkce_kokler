{
 "cells": [
  {
   "cell_type": "code",
   "execution_count": 1,
   "metadata": {},
   "outputs": [],
   "source": [
    "import json"
   ]
  },
  {
   "cell_type": "code",
   "execution_count": 3,
   "metadata": {},
   "outputs": [],
   "source": [
    "combined_roots_with_freq_path = \"word_frequency_counter/combined_roots_with_freq.json\"\n",
    "combined_remains_words_with_freq_path = \"word_frequency_counter/combined_remains_words_with_freq.json\"\n",
    "\n",
    "with open(combined_roots_with_freq_path, \"r\") as f:\n",
    "    combined_roots_with_freq = json.load(f)\n",
    "\n",
    "with open(combined_remains_words_with_freq_path, \"r\") as f:\n",
    "    combined_remains_words_with_freq = json.load(f)\n",
    "\n",
    "sorted_combined_roots_with_freq = sorted(combined_roots_with_freq.items(), key=lambda x: x[1], reverse=True)\n",
    "sorted_combined_remains_words_with_freq = sorted(combined_remains_words_with_freq.items(), key=lambda x: x[1], reverse=True)\n",
    "\n",
    "with open(\"./sorted_combined_roots_with_freq.json\", \"w\", encoding=\"utf-8\") as f:\n",
    "    json.dump(dict(sorted_combined_roots_with_freq), f, ensure_ascii=False, indent=4)\n",
    "\n",
    "# remaining words that frequency is greater than 100\n",
    "sorted_combined_remains_words_with_freq = [x for x in sorted_combined_remains_words_with_freq if x[1] > 100]\n",
    "with open(\"./sorted_combined_remains_words_with_freq.json\", \"w\", encoding=\"utf-8\") as f:\n",
    "    json.dump(dict(sorted_combined_remains_words_with_freq), f, ensure_ascii=False, indent=4)"
   ]
  }
 ],
 "metadata": {
  "kernelspec": {
   "display_name": "Python 3",
   "language": "python",
   "name": "python3"
  },
  "language_info": {
   "codemirror_mode": {
    "name": "ipython",
    "version": 3
   },
   "file_extension": ".py",
   "mimetype": "text/x-python",
   "name": "python",
   "nbconvert_exporter": "python",
   "pygments_lexer": "ipython3",
   "version": "3.9.6"
  }
 },
 "nbformat": 4,
 "nbformat_minor": 2
}
